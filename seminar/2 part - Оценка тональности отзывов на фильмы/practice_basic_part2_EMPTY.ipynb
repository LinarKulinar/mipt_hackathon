{
  "nbformat": 4,
  "nbformat_minor": 0,
  "metadata": {
    "kernelspec": {
      "display_name": "Python 3",
      "language": "python",
      "name": "python3"
    },
    "language_info": {
      "codemirror_mode": {
        "name": "ipython",
        "version": 3
      },
      "file_extension": ".py",
      "mimetype": "text/x-python",
      "name": "python",
      "nbconvert_exporter": "python",
      "pygments_lexer": "ipython3",
      "version": "3.7.4"
    },
    "colab": {
      "name": "practice_basic_part2_EMPTY.ipynb",
      "provenance": []
    }
  },
  "cells": [
    {
      "cell_type": "markdown",
      "metadata": {
        "id": "YNexNERUz_Ev",
        "colab_type": "text"
      },
      "source": [
        "# Зимняя школа МФТИ\n",
        "# Практикум по машинному обучению: базовый поток\n",
        "*Автор: [Илья Захаркин](https://vk.com/ilyazakharkin) | @izakharkin*"
      ]
    },
    {
      "cell_type": "markdown",
      "metadata": {
        "id": "ty4e0zs0z_Ex",
        "colab_type": "text"
      },
      "source": [
        "## Оценка тональности отзывов на фильмы"
      ]
    },
    {
      "cell_type": "markdown",
      "metadata": {
        "id": "5y_uN_e6z_Ey",
        "colab_type": "text"
      },
      "source": [
        "<img src=\"https://lh4.googleusercontent.com/proxy/1sG9fGlYWYqxND3cM-lrddATFg1cQHUI3GjtP19mtfn8qiSXcli4PbDxdFUk9z1EfxomhFkng8UNlgePX5tpLKVjC8jO7nF-K1BQJHoXjP9ivlv9AX3hsqvC4BRRmSYK4uP2zvQ5Ap1OH5k\">\n",
        "\n",
        "<img src=\"https://miro.medium.com/max/3260/1*8XIjunF2z6dmsVlkEuOUaw.png\" width=500>"
      ]
    },
    {
      "cell_type": "markdown",
      "metadata": {
        "id": "xmKefEy7z_Ez",
        "colab_type": "text"
      },
      "source": [
        "В этом ноутбуке мы проанализируем датасет отзывов с *IMDB*, будем оценивать их позитивность (1) и негативность (0)."
      ]
    },
    {
      "cell_type": "code",
      "metadata": {
        "id": "A4RWD0_1z_E0",
        "colab_type": "code",
        "colab": {}
      },
      "source": [
        "import warnings\n",
        "warnings.filterwarnings('ignore')"
      ],
      "execution_count": 0,
      "outputs": []
    },
    {
      "cell_type": "markdown",
      "metadata": {
        "id": "hnd3acaFz_E4",
        "colab_type": "text"
      },
      "source": [
        "## Recap: работа с категориальными признаками"
      ]
    },
    {
      "cell_type": "markdown",
      "metadata": {
        "id": "IoyLZP5uz_E5",
        "colab_type": "text"
      },
      "source": [
        "* LabelEncoder:"
      ]
    },
    {
      "cell_type": "code",
      "metadata": {
        "id": "W_ZuIXlWz_E6",
        "colab_type": "code",
        "colab": {}
      },
      "source": [
        "import numpy as np\n",
        "import pandas as pd\n",
        "\n",
        "from sklearn.preprocessing import LabelEncoder"
      ],
      "execution_count": 0,
      "outputs": []
    },
    {
      "cell_type": "code",
      "metadata": {
        "id": "XXJW676nz_E-",
        "colab_type": "code",
        "colab": {}
      },
      "source": [
        "fruits = pd.DataFrame(data={'Фрукт': ['яблоко', 'груша', 'яблоко', 'банан', 'киви']})"
      ],
      "execution_count": 0,
      "outputs": []
    },
    {
      "cell_type": "code",
      "metadata": {
        "id": "8BzfzUSkz_FB",
        "colab_type": "code",
        "outputId": "71fc8a44-6786-4d6f-b290-ec53e09bc40d",
        "colab": {}
      },
      "source": [
        "fruits"
      ],
      "execution_count": 0,
      "outputs": [
        {
          "output_type": "execute_result",
          "data": {
            "text/html": [
              "<div>\n",
              "<style scoped>\n",
              "    .dataframe tbody tr th:only-of-type {\n",
              "        vertical-align: middle;\n",
              "    }\n",
              "\n",
              "    .dataframe tbody tr th {\n",
              "        vertical-align: top;\n",
              "    }\n",
              "\n",
              "    .dataframe thead th {\n",
              "        text-align: right;\n",
              "    }\n",
              "</style>\n",
              "<table border=\"1\" class=\"dataframe\">\n",
              "  <thead>\n",
              "    <tr style=\"text-align: right;\">\n",
              "      <th></th>\n",
              "      <th>Фрукт</th>\n",
              "    </tr>\n",
              "  </thead>\n",
              "  <tbody>\n",
              "    <tr>\n",
              "      <td>0</td>\n",
              "      <td>яблоко</td>\n",
              "    </tr>\n",
              "    <tr>\n",
              "      <td>1</td>\n",
              "      <td>груша</td>\n",
              "    </tr>\n",
              "    <tr>\n",
              "      <td>2</td>\n",
              "      <td>яблоко</td>\n",
              "    </tr>\n",
              "    <tr>\n",
              "      <td>3</td>\n",
              "      <td>банан</td>\n",
              "    </tr>\n",
              "    <tr>\n",
              "      <td>4</td>\n",
              "      <td>киви</td>\n",
              "    </tr>\n",
              "  </tbody>\n",
              "</table>\n",
              "</div>"
            ],
            "text/plain": [
              "    Фрукт\n",
              "0  яблоко\n",
              "1   груша\n",
              "2  яблоко\n",
              "3   банан\n",
              "4    киви"
            ]
          },
          "metadata": {
            "tags": []
          },
          "execution_count": 4
        }
      ]
    },
    {
      "cell_type": "code",
      "metadata": {
        "id": "qgVaX0nGz_FG",
        "colab_type": "code",
        "colab": {}
      },
      "source": [
        "encoder = #\n",
        "result = #"
      ],
      "execution_count": 0,
      "outputs": []
    },
    {
      "cell_type": "code",
      "metadata": {
        "id": "QfczIne-z_FJ",
        "colab_type": "code",
        "outputId": "f92fd55f-d37c-4c50-c6a7-7c29a5f88f76",
        "colab": {}
      },
      "source": [
        "#"
      ],
      "execution_count": 0,
      "outputs": [
        {
          "output_type": "execute_result",
          "data": {
            "text/html": [
              "<div>\n",
              "<style scoped>\n",
              "    .dataframe tbody tr th:only-of-type {\n",
              "        vertical-align: middle;\n",
              "    }\n",
              "\n",
              "    .dataframe tbody tr th {\n",
              "        vertical-align: top;\n",
              "    }\n",
              "\n",
              "    .dataframe thead th {\n",
              "        text-align: right;\n",
              "    }\n",
              "</style>\n",
              "<table border=\"1\" class=\"dataframe\">\n",
              "  <thead>\n",
              "    <tr style=\"text-align: right;\">\n",
              "      <th></th>\n",
              "      <th>Фрукт</th>\n",
              "      <th>LabelEncoder</th>\n",
              "    </tr>\n",
              "  </thead>\n",
              "  <tbody>\n",
              "    <tr>\n",
              "      <td>0</td>\n",
              "      <td>яблоко</td>\n",
              "      <td>3</td>\n",
              "    </tr>\n",
              "    <tr>\n",
              "      <td>1</td>\n",
              "      <td>груша</td>\n",
              "      <td>1</td>\n",
              "    </tr>\n",
              "    <tr>\n",
              "      <td>2</td>\n",
              "      <td>яблоко</td>\n",
              "      <td>3</td>\n",
              "    </tr>\n",
              "    <tr>\n",
              "      <td>3</td>\n",
              "      <td>банан</td>\n",
              "      <td>0</td>\n",
              "    </tr>\n",
              "    <tr>\n",
              "      <td>4</td>\n",
              "      <td>киви</td>\n",
              "      <td>2</td>\n",
              "    </tr>\n",
              "  </tbody>\n",
              "</table>\n",
              "</div>"
            ],
            "text/plain": [
              "    Фрукт  LabelEncoder\n",
              "0  яблоко             3\n",
              "1   груша             1\n",
              "2  яблоко             3\n",
              "3   банан             0\n",
              "4    киви             2"
            ]
          },
          "metadata": {
            "tags": []
          },
          "execution_count": 6
        }
      ]
    },
    {
      "cell_type": "markdown",
      "metadata": {
        "id": "Hr7Awb1dz_FM",
        "colab_type": "text"
      },
      "source": [
        "* OneHotEncoder:"
      ]
    },
    {
      "cell_type": "code",
      "metadata": {
        "id": "9Q570fm6z_FM",
        "colab_type": "code",
        "colab": {}
      },
      "source": [
        "from sklearn.preprocessing import OneHotEncoder"
      ],
      "execution_count": 0,
      "outputs": []
    },
    {
      "cell_type": "code",
      "metadata": {
        "id": "d4hFFiigz_FP",
        "colab_type": "code",
        "colab": {}
      },
      "source": [
        "encoder = #\n",
        "result = #"
      ],
      "execution_count": 0,
      "outputs": []
    },
    {
      "cell_type": "code",
      "metadata": {
        "id": "ivPWasSPz_FS",
        "colab_type": "code",
        "outputId": "9f06dfb8-0cc1-4806-e59f-c0f10d9a8267",
        "colab": {}
      },
      "source": [
        "#"
      ],
      "execution_count": 0,
      "outputs": [
        {
          "output_type": "execute_result",
          "data": {
            "text/plain": [
              "<5x4 sparse matrix of type '<class 'numpy.float64'>'\n",
              "\twith 5 stored elements in Compressed Sparse Row format>"
            ]
          },
          "metadata": {
            "tags": []
          },
          "execution_count": 9
        }
      ]
    },
    {
      "cell_type": "code",
      "metadata": {
        "id": "_CAZY1wez_FV",
        "colab_type": "code",
        "outputId": "b7d06edb-d271-474a-b352-5829a0f7e83e",
        "colab": {}
      },
      "source": [
        "#"
      ],
      "execution_count": 0,
      "outputs": [
        {
          "output_type": "execute_result",
          "data": {
            "text/plain": [
              "matrix([[0., 0., 0., 1.],\n",
              "        [0., 1., 0., 0.],\n",
              "        [0., 0., 0., 1.],\n",
              "        [1., 0., 0., 0.],\n",
              "        [0., 0., 1., 0.]])"
            ]
          },
          "metadata": {
            "tags": []
          },
          "execution_count": 10
        }
      ]
    },
    {
      "cell_type": "code",
      "metadata": {
        "id": "L1w9ive8z_FX",
        "colab_type": "code",
        "outputId": "f3ece4b2-1dd6-424f-ee79-271ea1808212",
        "colab": {}
      },
      "source": [
        "#"
      ],
      "execution_count": 0,
      "outputs": [
        {
          "output_type": "execute_result",
          "data": {
            "text/html": [
              "<div>\n",
              "<style scoped>\n",
              "    .dataframe tbody tr th:only-of-type {\n",
              "        vertical-align: middle;\n",
              "    }\n",
              "\n",
              "    .dataframe tbody tr th {\n",
              "        vertical-align: top;\n",
              "    }\n",
              "\n",
              "    .dataframe thead th {\n",
              "        text-align: right;\n",
              "    }\n",
              "</style>\n",
              "<table border=\"1\" class=\"dataframe\">\n",
              "  <thead>\n",
              "    <tr style=\"text-align: right;\">\n",
              "      <th></th>\n",
              "      <th>Фрукт</th>\n",
              "      <th>LabelEncoder</th>\n",
              "    </tr>\n",
              "  </thead>\n",
              "  <tbody>\n",
              "    <tr>\n",
              "      <td>0</td>\n",
              "      <td>яблоко</td>\n",
              "      <td>3</td>\n",
              "    </tr>\n",
              "    <tr>\n",
              "      <td>1</td>\n",
              "      <td>груша</td>\n",
              "      <td>1</td>\n",
              "    </tr>\n",
              "    <tr>\n",
              "      <td>2</td>\n",
              "      <td>яблоко</td>\n",
              "      <td>3</td>\n",
              "    </tr>\n",
              "    <tr>\n",
              "      <td>3</td>\n",
              "      <td>банан</td>\n",
              "      <td>0</td>\n",
              "    </tr>\n",
              "    <tr>\n",
              "      <td>4</td>\n",
              "      <td>киви</td>\n",
              "      <td>2</td>\n",
              "    </tr>\n",
              "  </tbody>\n",
              "</table>\n",
              "</div>"
            ],
            "text/plain": [
              "    Фрукт  LabelEncoder\n",
              "0  яблоко             3\n",
              "1   груша             1\n",
              "2  яблоко             3\n",
              "3   банан             0\n",
              "4    киви             2"
            ]
          },
          "metadata": {
            "tags": []
          },
          "execution_count": 11
        }
      ]
    },
    {
      "cell_type": "markdown",
      "metadata": {
        "id": "QPnWYNyqz_Fa",
        "colab_type": "text"
      },
      "source": [
        "### Скачиваем данные"
      ]
    },
    {
      "cell_type": "code",
      "metadata": {
        "id": "YhFfwpqLz_Fa",
        "colab_type": "code",
        "colab": {}
      },
      "source": [
        "import numpy as np\n",
        "import pandas as pd\n",
        "\n",
        "import nltk"
      ],
      "execution_count": 0,
      "outputs": []
    },
    {
      "cell_type": "code",
      "metadata": {
        "id": "USVaUCWFz_Fd",
        "colab_type": "code",
        "colab": {}
      },
      "source": [
        "# !pip install nltk"
      ],
      "execution_count": 0,
      "outputs": []
    },
    {
      "cell_type": "code",
      "metadata": {
        "id": "ZPCb-CaPz_Fi",
        "colab_type": "code",
        "outputId": "17a32f4e-2be0-4e86-9ae4-7892a5c030ec",
        "colab": {}
      },
      "source": [
        "nltk.download('movie_reviews')"
      ],
      "execution_count": 0,
      "outputs": [
        {
          "output_type": "stream",
          "text": [
            "[nltk_data] Downloading package movie_reviews to\n",
            "[nltk_data]     /Users/izakharkin/nltk_data...\n",
            "[nltk_data]   Package movie_reviews is already up-to-date!\n"
          ],
          "name": "stderr"
        },
        {
          "output_type": "execute_result",
          "data": {
            "text/plain": [
              "True"
            ]
          },
          "metadata": {
            "tags": []
          },
          "execution_count": 14
        }
      ]
    },
    {
      "cell_type": "code",
      "metadata": {
        "id": "Bm2prKWWz_Fk",
        "colab_type": "code",
        "colab": {}
      },
      "source": [
        "from nltk.corpus import movie_reviews"
      ],
      "execution_count": 0,
      "outputs": []
    },
    {
      "cell_type": "markdown",
      "metadata": {
        "id": "QwwNK9gCz_Fm",
        "colab_type": "text"
      },
      "source": [
        "* Информация о датасете::"
      ]
    },
    {
      "cell_type": "code",
      "metadata": {
        "scrolled": true,
        "id": "ey3OTBGXz_Fm",
        "colab_type": "code",
        "outputId": "b4354177-a2b4-4f83-d30d-5bb0e5130fd4",
        "colab": {}
      },
      "source": [
        "print(movie_reviews.readme())"
      ],
      "execution_count": 0,
      "outputs": [
        {
          "output_type": "stream",
          "text": [
            "Sentiment Polarity Dataset Version 2.0\n",
            "Bo Pang and Lillian Lee\n",
            "\n",
            "http://www.cs.cornell.edu/people/pabo/movie-review-data/\n",
            "\n",
            "Distributed with NLTK with permission from the authors.\n",
            "\n",
            "=======\n",
            "\n",
            "Introduction\n",
            "\n",
            "This README v2.0 (June, 2004) for the v2.0 polarity dataset comes from\n",
            "the URL http://www.cs.cornell.edu/people/pabo/movie-review-data .\n",
            "\n",
            "=======\n",
            "\n",
            "What's New -- June, 2004\n",
            "\n",
            "This dataset represents an enhancement of the review corpus v1.0\n",
            "described in README v1.1: it contains more reviews, and labels were\n",
            "created with an improved rating-extraction system.\n",
            "\n",
            "=======\n",
            "\n",
            "Citation Info \n",
            "\n",
            "This data was first used in Bo Pang and Lillian Lee,\n",
            "``A Sentimental Education: Sentiment Analysis Using Subjectivity Summarization \n",
            "Based on Minimum Cuts'',  Proceedings of the ACL, 2004.\n",
            "\n",
            "@InProceedings{Pang+Lee:04a,\n",
            "  author =       {Bo Pang and Lillian Lee},\n",
            "  title =        {A Sentimental Education: Sentiment Analysis Using Subjectivity Summarization Based on Minimum Cuts},\n",
            "  booktitle =    \"Proceedings of the ACL\",\n",
            "  year =         2004\n",
            "}\n",
            "\n",
            "=======\n",
            "\n",
            "Data Format Summary \n",
            "\n",
            "- review_polarity.tar.gz: contains this readme and  data used in\n",
            "  the experiments described in Pang/Lee ACL 2004.\n",
            "\n",
            "  Specifically:\n",
            "\n",
            "  Within the folder \"txt_sentoken\" are the 2000 processed down-cased\n",
            "  text files used in Pang/Lee ACL 2004; the names of the two\n",
            "  subdirectories in that folder, \"pos\" and \"neg\", indicate the true\n",
            "  classification (sentiment) of the component files according to our\n",
            "  automatic rating classifier (see section \"Rating Decision\" below).\n",
            "\n",
            "  File names consist of a cross-validation tag plus the name of the\n",
            "  original html file.  The ten folds used in the Pang/Lee ACL 2004 paper's\n",
            "  experiments were:\n",
            "\n",
            "     fold 1: files tagged cv000 through cv099, in numerical order\n",
            "     fold 2: files tagged cv100 through cv199, in numerical order     \n",
            "     ...\n",
            "     fold 10: files tagged cv900 through cv999, in numerical order\n",
            "\n",
            "  Hence, the file neg/cv114_19501.txt, for example, was labeled as\n",
            "  negative, served as a member of fold 2, and was extracted from the\n",
            "  file 19501.html in polarity_html.zip (see below).\n",
            "\n",
            "  Each line in each text file corresponds to a single sentence, as\n",
            "  determined by Adwait Ratnaparkhi's sentence boundary detector\n",
            "  MXTERMINATOR.\n",
            " \n",
            "  Preliminary steps were taken to remove rating information from the\n",
            "  text files, but only the rating information upon which the rating\n",
            "  decision was based is guaranteed to have been removed. Thus, if the\n",
            "  original review contains several instances of rating information,\n",
            "  potentially given in different forms, those not recognized as valid\n",
            "  ratings remain part of the review text.\n",
            "\t\n",
            "- polarity_html.zip: The original source files from which the\n",
            "  processed, labeled, and (randomly) selected data in\n",
            "  review_polarity.tar.gz was derived.\n",
            "\n",
            "  Specifically:  \n",
            "\n",
            "  This data consists of unprocessed, unlabeled html files from the\n",
            "  IMDb archive of the rec.arts.movies.reviews newsgroup,\n",
            "  http://reviews.imdb.com/Reviews. The files in review_polarity.tar.gz\n",
            "  represent a processed subset of these files. \n",
            "\n",
            "=======\n",
            "\n",
            "Rating Decision (Appendix A)\n",
            "\n",
            "This section describes how we determined whether a review was positive\n",
            "or negative.\n",
            "\n",
            "The original html files do not have consistent formats -- a review may\n",
            "not have the author's rating with it, and when it does, the rating can\n",
            "appear at different places in the file in different forms.  We only\n",
            "recognize some of the more explicit ratings, which are extracted via a\n",
            "set of ad-hoc rules.  In essence, a file's classification is determined\n",
            "based on the first rating we were able to identify.\n",
            "\n",
            "\n",
            "- In order to obtain more accurate rating decisions, the maximum\n",
            "\trating must be specified explicitly, both for numerical ratings\n",
            "\tand star ratings.  (\"8/10\", \"four out of five\", and \"OUT OF\n",
            "\t****: ***\" are examples of rating indications we recognize.)\n",
            "\n",
            "- With a five-star system (or compatible number systems):\n",
            "\tthree-and-a-half stars and up are considered positive, \n",
            "\ttwo stars and below are considered negative.\n",
            "- With a four-star system (or compatible number system):\n",
            "\tthree stars and up are considered positive, \n",
            "\tone-and-a-half stars and below are considered negative.  \n",
            "- With a letter grade system:\n",
            "\tB or above is considered positive,\n",
            "\tC- or below is considered negative.\n",
            "\n",
            "We attempted to recognize half stars, but they are specified in an\n",
            "especially free way, which makes them difficult to recognize.  Hence,\n",
            "we may lose a half star very occasionally; but this only results in 2.5\n",
            "stars in five star system being categorized as negative, which is \n",
            "still reasonable.\n",
            "\n",
            "\n",
            "\n"
          ],
          "name": "stdout"
        }
      ]
    },
    {
      "cell_type": "code",
      "metadata": {
        "id": "V4KG8EWhz_Fo",
        "colab_type": "code",
        "outputId": "817c9f5b-a2cf-4b75-fc15-7bd2ca954a3e",
        "colab": {}
      },
      "source": [
        "movie_reviews.raw().split('\\n')[:10]"
      ],
      "execution_count": 0,
      "outputs": [
        {
          "output_type": "execute_result",
          "data": {
            "text/plain": [
              "['plot : two teen couples go to a church party , drink and then drive . ',\n",
              " 'they get into an accident . ',\n",
              " 'one of the guys dies , but his girlfriend continues to see him in her life , and has nightmares . ',\n",
              " \"what's the deal ? \",\n",
              " 'watch the movie and \" sorta \" find out . . . ',\n",
              " 'critique : a mind-fuck movie for the teen generation that touches on a very cool idea , but presents it in a very bad package . ',\n",
              " \"which is what makes this review an even harder one to write , since i generally applaud films which attempt to break the mold , mess with your head and such ( lost highway & memento ) , but there are good and bad ways of making all types of films , and these folks just didn't snag this one correctly . \",\n",
              " 'they seem to have taken this pretty neat concept , but executed it terribly . ',\n",
              " 'so what are the problems with the movie ? ',\n",
              " \"well , its main problem is that it's simply too jumbled . \"]"
            ]
          },
          "metadata": {
            "tags": []
          },
          "execution_count": 92
        }
      ]
    },
    {
      "cell_type": "markdown",
      "metadata": {
        "id": "NUE09314z_Fq",
        "colab_type": "text"
      },
      "source": [
        "* Чтобы удобно было разделять отзывы:"
      ]
    },
    {
      "cell_type": "code",
      "metadata": {
        "id": "Di2z-x1Hz_Fr",
        "colab_type": "code",
        "colab": {}
      },
      "source": [
        "negids = movie_reviews.fileids('neg')\n",
        "posids = movie_reviews.fileids('pos')"
      ],
      "execution_count": 0,
      "outputs": []
    },
    {
      "cell_type": "code",
      "metadata": {
        "id": "x0ov8JIAz_Ft",
        "colab_type": "code",
        "colab": {}
      },
      "source": [
        "negfeats = [movie_reviews.words(fileids=[f]) for f in negids]\n",
        "posfeats = [movie_reviews.words(fileids=[f]) for f in posids]"
      ],
      "execution_count": 0,
      "outputs": []
    },
    {
      "cell_type": "code",
      "metadata": {
        "id": "P0PQTWXUz_Fv",
        "colab_type": "code",
        "outputId": "4ce56738-7bcc-4537-8842-d6af0d3f080c",
        "colab": {}
      },
      "source": [
        "negfeats[:5]"
      ],
      "execution_count": 0,
      "outputs": [
        {
          "output_type": "execute_result",
          "data": {
            "text/plain": [
              "[['plot', ':', 'two', 'teen', 'couples', 'go', 'to', ...],\n",
              " ['the', 'happy', 'bastard', \"'\", 's', 'quick', 'movie', ...],\n",
              " ['it', 'is', 'movies', 'like', 'these', 'that', 'make', ...],\n",
              " ['\"', 'quest', 'for', 'camelot', '\"', 'is', 'warner', ...],\n",
              " ['synopsis', ':', 'a', 'mentally', 'unstable', 'man', ...]]"
            ]
          },
          "metadata": {
            "tags": []
          },
          "execution_count": 95
        }
      ]
    },
    {
      "cell_type": "code",
      "metadata": {
        "id": "l9ccu9k_z_Fy",
        "colab_type": "code",
        "outputId": "4bb14ff4-9c54-4b1b-ab90-24d84a5f3025",
        "colab": {}
      },
      "source": [
        "posfeats[-5:]"
      ],
      "execution_count": 0,
      "outputs": [
        {
          "output_type": "execute_result",
          "data": {
            "text/plain": [
              "[['wow', '!', 'what', 'a', 'movie', '.', 'it', \"'\", 's', ...],\n",
              " ['richard', 'gere', 'can', 'be', 'a', 'commanding', ...],\n",
              " ['glory', '--', 'starring', 'matthew', 'broderick', ...],\n",
              " ['steven', 'spielberg', \"'\", 's', 'second', 'epic', ...],\n",
              " ['truman', '(', '\"', 'true', '-', 'man', '\"', ')', ...]]"
            ]
          },
          "metadata": {
            "tags": []
          },
          "execution_count": 96
        }
      ]
    },
    {
      "cell_type": "markdown",
      "metadata": {
        "id": "uh3fWzTZz_F0",
        "colab_type": "text"
      },
      "source": [
        "* Саздаём **DataFrame** и вектор меток **y**:"
      ]
    },
    {
      "cell_type": "code",
      "metadata": {
        "id": "NWGhvVEgz_F1",
        "colab_type": "code",
        "colab": {}
      },
      "source": [
        "sentiments = #\n",
        "labels = #"
      ],
      "execution_count": 0,
      "outputs": []
    },
    {
      "cell_type": "code",
      "metadata": {
        "id": "LxsfRJo4z_F4",
        "colab_type": "code",
        "outputId": "daaafc7d-0c8e-4f57-b564-f25f56eaf747",
        "colab": {}
      },
      "source": [
        "sentiments.head()"
      ],
      "execution_count": 0,
      "outputs": [
        {
          "output_type": "execute_result",
          "data": {
            "text/html": [
              "<div>\n",
              "<style scoped>\n",
              "    .dataframe tbody tr th:only-of-type {\n",
              "        vertical-align: middle;\n",
              "    }\n",
              "\n",
              "    .dataframe tbody tr th {\n",
              "        vertical-align: top;\n",
              "    }\n",
              "\n",
              "    .dataframe thead th {\n",
              "        text-align: right;\n",
              "    }\n",
              "</style>\n",
              "<table border=\"1\" class=\"dataframe\">\n",
              "  <thead>\n",
              "    <tr style=\"text-align: right;\">\n",
              "      <th></th>\n",
              "      <th>sentiment</th>\n",
              "    </tr>\n",
              "  </thead>\n",
              "  <tbody>\n",
              "    <tr>\n",
              "      <td>0</td>\n",
              "      <td>(plot, :, two, teen, couples, go, to, a, churc...</td>\n",
              "    </tr>\n",
              "    <tr>\n",
              "      <td>1</td>\n",
              "      <td>(the, happy, bastard, ', s, quick, movie, revi...</td>\n",
              "    </tr>\n",
              "    <tr>\n",
              "      <td>2</td>\n",
              "      <td>(it, is, movies, like, these, that, make, a, j...</td>\n",
              "    </tr>\n",
              "    <tr>\n",
              "      <td>3</td>\n",
              "      <td>(\", quest, for, camelot, \", is, warner, bros, ...</td>\n",
              "    </tr>\n",
              "    <tr>\n",
              "      <td>4</td>\n",
              "      <td>(synopsis, :, a, mentally, unstable, man, unde...</td>\n",
              "    </tr>\n",
              "  </tbody>\n",
              "</table>\n",
              "</div>"
            ],
            "text/plain": [
              "                                           sentiment\n",
              "0  (plot, :, two, teen, couples, go, to, a, churc...\n",
              "1  (the, happy, bastard, ', s, quick, movie, revi...\n",
              "2  (it, is, movies, like, these, that, make, a, j...\n",
              "3  (\", quest, for, camelot, \", is, warner, bros, ...\n",
              "4  (synopsis, :, a, mentally, unstable, man, unde..."
            ]
          },
          "metadata": {
            "tags": []
          },
          "execution_count": 22
        }
      ]
    },
    {
      "cell_type": "code",
      "metadata": {
        "id": "HBVysVwkz_F6",
        "colab_type": "code",
        "outputId": "0f43cf4f-f5b3-4b84-f00a-200aef7ee7ba",
        "colab": {}
      },
      "source": [
        "sentiments.tail()"
      ],
      "execution_count": 0,
      "outputs": [
        {
          "output_type": "execute_result",
          "data": {
            "text/html": [
              "<div>\n",
              "<style scoped>\n",
              "    .dataframe tbody tr th:only-of-type {\n",
              "        vertical-align: middle;\n",
              "    }\n",
              "\n",
              "    .dataframe tbody tr th {\n",
              "        vertical-align: top;\n",
              "    }\n",
              "\n",
              "    .dataframe thead th {\n",
              "        text-align: right;\n",
              "    }\n",
              "</style>\n",
              "<table border=\"1\" class=\"dataframe\">\n",
              "  <thead>\n",
              "    <tr style=\"text-align: right;\">\n",
              "      <th></th>\n",
              "      <th>sentiment</th>\n",
              "    </tr>\n",
              "  </thead>\n",
              "  <tbody>\n",
              "    <tr>\n",
              "      <td>1995</td>\n",
              "      <td>(wow, !, what, a, movie, ., it, ', s, everythi...</td>\n",
              "    </tr>\n",
              "    <tr>\n",
              "      <td>1996</td>\n",
              "      <td>(richard, gere, can, be, a, commanding, actor,...</td>\n",
              "    </tr>\n",
              "    <tr>\n",
              "      <td>1997</td>\n",
              "      <td>(glory, --, starring, matthew, broderick, ,, d...</td>\n",
              "    </tr>\n",
              "    <tr>\n",
              "      <td>1998</td>\n",
              "      <td>(steven, spielberg, ', s, second, epic, film, ...</td>\n",
              "    </tr>\n",
              "    <tr>\n",
              "      <td>1999</td>\n",
              "      <td>(truman, (, \", true, -, man, \", ), burbank, is...</td>\n",
              "    </tr>\n",
              "  </tbody>\n",
              "</table>\n",
              "</div>"
            ],
            "text/plain": [
              "                                              sentiment\n",
              "1995  (wow, !, what, a, movie, ., it, ', s, everythi...\n",
              "1996  (richard, gere, can, be, a, commanding, actor,...\n",
              "1997  (glory, --, starring, matthew, broderick, ,, d...\n",
              "1998  (steven, spielberg, ', s, second, epic, film, ...\n",
              "1999  (truman, (, \", true, -, man, \", ), burbank, is..."
            ]
          },
          "metadata": {
            "tags": []
          },
          "execution_count": 23
        }
      ]
    },
    {
      "cell_type": "code",
      "metadata": {
        "id": "IsIbiUbqz_F-",
        "colab_type": "code",
        "outputId": "cba8ef1d-91e1-4a04-f063-a85e06e8a29d",
        "colab": {}
      },
      "source": [
        "sentiments.shape"
      ],
      "execution_count": 0,
      "outputs": [
        {
          "output_type": "execute_result",
          "data": {
            "text/plain": [
              "(2000, 1)"
            ]
          },
          "metadata": {
            "tags": []
          },
          "execution_count": 24
        }
      ]
    },
    {
      "cell_type": "code",
      "metadata": {
        "id": "H9QRFcpvz_GA",
        "colab_type": "code",
        "outputId": "d2c09aae-5e6c-44ab-8317-1927dad012e6",
        "colab": {}
      },
      "source": [
        "len(posfeats) / (len(negfeats) + len(posfeats))"
      ],
      "execution_count": 0,
      "outputs": [
        {
          "output_type": "execute_result",
          "data": {
            "text/plain": [
              "0.5"
            ]
          },
          "metadata": {
            "tags": []
          },
          "execution_count": 25
        }
      ]
    },
    {
      "cell_type": "markdown",
      "metadata": {
        "id": "hHY3DDgsz_GC",
        "colab_type": "text"
      },
      "source": [
        "### Преобразование данных в ***Bag-of-Words*** (\"мешок слов\"):"
      ]
    },
    {
      "cell_type": "markdown",
      "metadata": {
        "id": "ta-NRRuXz_GD",
        "colab_type": "text"
      },
      "source": [
        "<img src=\"https://miro.medium.com/max/2552/1*MeSYCKGDOdwkJKVZKxJuvg.png\" width=650>"
      ]
    },
    {
      "cell_type": "code",
      "metadata": {
        "id": "SVzQIDbZz_GF",
        "colab_type": "code",
        "colab": {}
      },
      "source": [
        "from sklearn.feature_extraction.text import CountVectorizer, TfidfVectorizer"
      ],
      "execution_count": 0,
      "outputs": []
    },
    {
      "cell_type": "code",
      "metadata": {
        "id": "7QIfMn9uz_GH",
        "colab_type": "code",
        "colab": {}
      },
      "source": [
        "cnt_vect = #"
      ],
      "execution_count": 0,
      "outputs": []
    },
    {
      "cell_type": "code",
      "metadata": {
        "id": "NKGo47iwz_GK",
        "colab_type": "code",
        "colab": {}
      },
      "source": [
        "data = #"
      ],
      "execution_count": 0,
      "outputs": []
    },
    {
      "cell_type": "code",
      "metadata": {
        "id": "WcDqvZbBz_GM",
        "colab_type": "code",
        "colab": {}
      },
      "source": [
        "X = #"
      ],
      "execution_count": 0,
      "outputs": []
    },
    {
      "cell_type": "code",
      "metadata": {
        "id": "anpl0IB7z_GO",
        "colab_type": "code",
        "outputId": "a0f67461-1da6-4cfa-fe4c-4dcebb6d2935",
        "colab": {}
      },
      "source": [
        "X"
      ],
      "execution_count": 0,
      "outputs": [
        {
          "output_type": "execute_result",
          "data": {
            "text/plain": [
              "<2000x39659 sparse matrix of type '<class 'numpy.int64'>'\n",
              "\twith 666842 stored elements in Compressed Sparse Row format>"
            ]
          },
          "metadata": {
            "tags": []
          },
          "execution_count": 30
        }
      ]
    },
    {
      "cell_type": "code",
      "metadata": {
        "id": "RRD3ewg1z_GQ",
        "colab_type": "code",
        "colab": {}
      },
      "source": [
        "y = #"
      ],
      "execution_count": 0,
      "outputs": []
    },
    {
      "cell_type": "markdown",
      "metadata": {
        "id": "lCWSMqOez_GR",
        "colab_type": "text"
      },
      "source": [
        "### Пробуем логистическую регрессию как модель для классификации тональности отзывов"
      ]
    },
    {
      "cell_type": "code",
      "metadata": {
        "id": "iROlKWA5z_GS",
        "colab_type": "code",
        "colab": {}
      },
      "source": [
        "from sklearn.linear_model import LogisticRegression\n",
        "from sklearn.model_selection import cross_val_score\n",
        "from sklearn.pipeline import Pipeline"
      ],
      "execution_count": 0,
      "outputs": []
    },
    {
      "cell_type": "code",
      "metadata": {
        "id": "Fp788rGxz_GT",
        "colab_type": "code",
        "colab": {}
      },
      "source": [
        "clf = #"
      ],
      "execution_count": 0,
      "outputs": []
    },
    {
      "cell_type": "code",
      "metadata": {
        "id": "S01MFYBxz_GV",
        "colab_type": "code",
        "colab": {}
      },
      "source": [
        "vect_logreg = Pipeline([('vectorizer', cnt_vect), ('logreg', clf)])"
      ],
      "execution_count": 0,
      "outputs": []
    },
    {
      "cell_type": "markdown",
      "metadata": {
        "id": "YPehX966z_GW",
        "colab_type": "text"
      },
      "source": [
        "* Измерим качество **accuracy score**:"
      ]
    },
    {
      "cell_type": "code",
      "metadata": {
        "id": "0kjmcvP1z_GX",
        "colab_type": "code",
        "colab": {}
      },
      "source": [
        "acc_scores = #"
      ],
      "execution_count": 0,
      "outputs": []
    },
    {
      "cell_type": "code",
      "metadata": {
        "id": "NiMxubvdz_GZ",
        "colab_type": "code",
        "outputId": "1b4afd08-f369-4651-c1ad-0990b46e413f",
        "colab": {}
      },
      "source": [
        "np.mean(acc_scores)"
      ],
      "execution_count": 0,
      "outputs": [
        {
          "output_type": "execute_result",
          "data": {
            "text/plain": [
              "0.8360216503929078"
            ]
          },
          "metadata": {
            "tags": []
          },
          "execution_count": 36
        }
      ]
    },
    {
      "cell_type": "markdown",
      "metadata": {
        "id": "x7kHNPeFz_Gc",
        "colab_type": "text"
      },
      "source": [
        "* Измерим качество с помощью **ROC AUC**:"
      ]
    },
    {
      "cell_type": "code",
      "metadata": {
        "id": "JOWTgPCwz_Gc",
        "colab_type": "code",
        "colab": {}
      },
      "source": [
        "roc_aucs = #"
      ],
      "execution_count": 0,
      "outputs": []
    },
    {
      "cell_type": "code",
      "metadata": {
        "id": "33z9tm0cz_Ge",
        "colab_type": "code",
        "outputId": "0f6b6d13-6972-4fa1-e1ee-650b18f49fb4",
        "colab": {}
      },
      "source": [
        "np.mean(roc_aucs)"
      ],
      "execution_count": 0,
      "outputs": [
        {
          "output_type": "execute_result",
          "data": {
            "text/plain": [
              "0.9107764937833774"
            ]
          },
          "metadata": {
            "tags": []
          },
          "execution_count": 38
        }
      ]
    },
    {
      "cell_type": "markdown",
      "metadata": {
        "id": "oSqi5giVz_Gh",
        "colab_type": "text"
      },
      "source": [
        "* Обучаем модель на *всех данных*:"
      ]
    },
    {
      "cell_type": "code",
      "metadata": {
        "id": "VaGJqlrhz_Gh",
        "colab_type": "code",
        "outputId": "fe577db2-0fba-41d7-faed-af220ddaebec",
        "colab": {}
      },
      "source": [
        "clf.fit(X, y)"
      ],
      "execution_count": 0,
      "outputs": [
        {
          "output_type": "execute_result",
          "data": {
            "text/plain": [
              "LogisticRegression(C=1.0, class_weight=None, dual=False, fit_intercept=True,\n",
              "                   intercept_scaling=1, l1_ratio=None, max_iter=100,\n",
              "                   multi_class='warn', n_jobs=None, penalty='l2',\n",
              "                   random_state=None, solver='warn', tol=0.0001, verbose=0,\n",
              "                   warm_start=False)"
            ]
          },
          "metadata": {
            "tags": []
          },
          "execution_count": 39
        }
      ]
    },
    {
      "cell_type": "markdown",
      "metadata": {
        "id": "Lh4Hq98Vz_Gj",
        "colab_type": "text"
      },
      "source": [
        "### Top-5 наиболее важных слов для классификации:"
      ]
    },
    {
      "cell_type": "code",
      "metadata": {
        "id": "sKmuHNIiz_Gk",
        "colab_type": "code",
        "outputId": "34604652-8971-4b3d-bdfe-64aa2d794f1b",
        "colab": {}
      },
      "source": [
        "idx_arr = #\n",
        "idx_arr"
      ],
      "execution_count": 0,
      "outputs": [
        {
          "output_type": "execute_result",
          "data": {
            "text/plain": [
              "array([ 2954, 37056, 39195, 14159, 38417])"
            ]
          },
          "metadata": {
            "tags": []
          },
          "execution_count": 40
        }
      ]
    },
    {
      "cell_type": "code",
      "metadata": {
        "id": "mSYiJpU-z_Gm",
        "colab_type": "code",
        "outputId": "a1dc88df-2e05-4382-f567-cc8278867c51",
        "colab": {}
      },
      "source": [
        "#"
      ],
      "execution_count": 0,
      "outputs": [
        {
          "output_type": "execute_result",
          "data": {
            "text/plain": [
              "array(['bad', 'unfortunately', 'worst', 'fun', 'waste'], dtype='<U58')"
            ]
          },
          "metadata": {
            "tags": []
          },
          "execution_count": 41
        }
      ]
    },
    {
      "cell_type": "markdown",
      "metadata": {
        "id": "VnezG4T3z_Go",
        "colab_type": "text"
      },
      "source": [
        "---"
      ]
    },
    {
      "cell_type": "markdown",
      "metadata": {
        "id": "jcf9WXYzz_Gp",
        "colab_type": "text"
      },
      "source": [
        "## Экспериментируем с моделями, stop-words и n-grams"
      ]
    },
    {
      "cell_type": "markdown",
      "metadata": {
        "id": "mqlMalJMz_Gp",
        "colab_type": "text"
      },
      "source": [
        "* Давайте проверим, какое качество даст бейзлайн **без stop-words и n-grams**:"
      ]
    },
    {
      "cell_type": "code",
      "metadata": {
        "id": "ix_4HmuDz_Gq",
        "colab_type": "code",
        "colab": {}
      },
      "source": [
        "count_logreg_pipe = #\n",
        "tfidf_logreg_pipe = #"
      ],
      "execution_count": 0,
      "outputs": []
    },
    {
      "cell_type": "code",
      "metadata": {
        "id": "SpZe5C2ez_Gs",
        "colab_type": "code",
        "colab": {}
      },
      "source": [
        "cv_acc_scores_count = #\n",
        "cv_acc_scores_tfidf = #"
      ],
      "execution_count": 0,
      "outputs": []
    },
    {
      "cell_type": "code",
      "metadata": {
        "id": "Ity4gyYJz_Gu",
        "colab_type": "code",
        "outputId": "deb8d9b5-9313-4fee-aa87-51379932631d",
        "colab": {}
      },
      "source": [
        "print(\n",
        "    f'CountVectorizer + LogisticRegression CV accuracy: \\\n",
        "    {cv_acc_scores_count.mean():.5f} ({cv_acc_scores_count.std():.5f})'\n",
        ")"
      ],
      "execution_count": 0,
      "outputs": [
        {
          "output_type": "stream",
          "text": [
            "CountVectorizer + LogisticRegression CV accuracy:     0.84100 (0.01678)\n"
          ],
          "name": "stdout"
        }
      ]
    },
    {
      "cell_type": "code",
      "metadata": {
        "id": "TkroK9OEz_Gw",
        "colab_type": "code",
        "outputId": "8e4aaaf6-c767-4bc3-b62a-b2056f7a7e55",
        "colab": {}
      },
      "source": [
        "print(\n",
        "    f'TfIdfVectorizer + LogisticRegression CV accuracy: \\\n",
        "    {cv_acc_scores_tfidf.mean():.5f} ({cv_acc_scores_tfidf.std():.5f})'\n",
        ")"
      ],
      "execution_count": 0,
      "outputs": [
        {
          "output_type": "stream",
          "text": [
            "TfIdfVectorizer + LogisticRegression CV accuracy:     0.82100 (0.00406)\n"
          ],
          "name": "stdout"
        }
      ]
    },
    {
      "cell_type": "markdown",
      "metadata": {
        "id": "7zqgGTiRz_Gz",
        "colab_type": "text"
      },
      "source": [
        "* Теперь изменим *min_df* у *CountVectorizer* и увидим, как изменится модель:"
      ]
    },
    {
      "cell_type": "code",
      "metadata": {
        "id": "2oNuooSPz_Gz",
        "colab_type": "code",
        "outputId": "b93c28bf-374d-4248-e444-0640fa32ac04",
        "colab": {}
      },
      "source": [
        "param_grid = #\n",
        "\n",
        "for min_df in param_grid:\n",
        "    count_logreg_pipe = #\n",
        "    cv_acc_scores_count = #\n",
        "    print(\n",
        "        f'CountVectorizer + LogisticRegression CV accuracy with min_df={min_df}: \\\n",
        "        {cv_acc_scores_count.mean():.3f} ({cv_acc_scores_count.std():.3f})\\n'\n",
        "    )"
      ],
      "execution_count": 0,
      "outputs": [
        {
          "output_type": "stream",
          "text": [
            "CountVectorizer + LogisticRegression CV accuracy with min_df=10:         0.839 (0.012)\n",
            "\n",
            "CountVectorizer + LogisticRegression CV accuracy with min_df=20:         0.833 (0.017)\n",
            "\n",
            "CountVectorizer + LogisticRegression CV accuracy with min_df=30:         0.825 (0.014)\n",
            "\n",
            "CountVectorizer + LogisticRegression CV accuracy with min_df=40:         0.817 (0.009)\n",
            "\n",
            "CountVectorizer + LogisticRegression CV accuracy with min_df=50:         0.813 (0.013)\n",
            "\n"
          ],
          "name": "stdout"
        }
      ]
    },
    {
      "cell_type": "markdown",
      "metadata": {
        "id": "ZHWFrcP5z_G1",
        "colab_type": "text"
      },
      "source": [
        "* Попробуем разные модели:"
      ]
    },
    {
      "cell_type": "code",
      "metadata": {
        "id": "zE0b5lF4z_G1",
        "colab_type": "code",
        "colab": {}
      },
      "source": [
        "from sklearn.linear_model import SGDClassifier\n",
        "from sklearn.svm import LinearSVC"
      ],
      "execution_count": 0,
      "outputs": []
    },
    {
      "cell_type": "code",
      "metadata": {
        "id": "lyGp7euIz_G3",
        "colab_type": "code",
        "colab": {}
      },
      "source": [
        "classifiers = #\n",
        "pipelines = #"
      ],
      "execution_count": 0,
      "outputs": []
    },
    {
      "cell_type": "code",
      "metadata": {
        "id": "TF6DoxQIz_G4",
        "colab_type": "code",
        "outputId": "d418b55c-654c-43e3-d936-1fb4ff0cdb47",
        "colab": {}
      },
      "source": [
        "for pipeline in pipelines:\n",
        "    cv_acc_scores = #\n",
        "    print(f'CV accuracy: {cv_acc_scores.mean():.3f} ({cv_acc_scores.std():.3f})\\n')"
      ],
      "execution_count": 0,
      "outputs": [
        {
          "output_type": "stream",
          "text": [
            "CV accuracy: 0.842 (0.022)\n",
            "\n",
            "CV accuracy: 0.833 (0.016)\n",
            "\n",
            "CV accuracy: 0.834 (0.013)\n",
            "\n"
          ],
          "name": "stdout"
        }
      ]
    },
    {
      "cell_type": "markdown",
      "metadata": {
        "id": "JjlrREZhz_G6",
        "colab_type": "text"
      },
      "source": [
        "* Сравним **stop-words** из **sklearn** и из **nltk**:"
      ]
    },
    {
      "cell_type": "code",
      "metadata": {
        "id": "g5VwisI-z_G7",
        "colab_type": "code",
        "outputId": "f194127f-66e4-43d3-c9ae-a7dccd735ade",
        "colab": {}
      },
      "source": [
        "nltk.download('stopwords')"
      ],
      "execution_count": 0,
      "outputs": [
        {
          "output_type": "stream",
          "text": [
            "[nltk_data] Downloading package stopwords to\n",
            "[nltk_data]     /Users/izakharkin/nltk_data...\n",
            "[nltk_data]   Package stopwords is already up-to-date!\n"
          ],
          "name": "stderr"
        },
        {
          "output_type": "execute_result",
          "data": {
            "text/plain": [
              "True"
            ]
          },
          "metadata": {
            "tags": []
          },
          "execution_count": 58
        }
      ]
    },
    {
      "cell_type": "code",
      "metadata": {
        "id": "Hb9UDi0wz_G8",
        "colab_type": "code",
        "colab": {}
      },
      "source": [
        "stop_words_nltk = nltk.corpus.stopwords.words('english')"
      ],
      "execution_count": 0,
      "outputs": []
    },
    {
      "cell_type": "code",
      "metadata": {
        "id": "s9DRBqEez_G9",
        "colab_type": "code",
        "outputId": "12633241-862f-4033-9e71-06ec1f4a971d",
        "colab": {}
      },
      "source": [
        "stop_words = ['english', stop_words_nltk]\n",
        "\n",
        "pipelines = [\n",
        "    Pipeline([\n",
        "        ('vectorizer', CountVectorizer(stop_words=words)), \n",
        "        ('logreg', LogisticRegression())\n",
        "    ]) \n",
        "    for words in stop_words\n",
        "]\n",
        "\n",
        "names = ['sklearn', 'nltk']\n",
        "for i, pipeline in enumerate(pipelines):\n",
        "    cv_acc_scores = cross_val_score(pipeline, data, y, cv=5)\n",
        "    print(\n",
        "        f'CountVectorizer + LogisticRegression + stop-words: {names[i]} CV accuracy: \\\n",
        "        {cv_acc_scores.mean():.3f} ({cv_acc_scores.std():.3f})\\n'\n",
        "    )"
      ],
      "execution_count": 0,
      "outputs": [
        {
          "output_type": "stream",
          "text": [
            "CountVectorizer + LogisticRegression + stop-words: sklearn CV accuracy:         0.839 (0.010)\n",
            "\n",
            "CountVectorizer + LogisticRegression + stop-words: nltk CV accuracy:         0.841 (0.010)\n",
            "\n"
          ],
          "name": "stdout"
        }
      ]
    },
    {
      "cell_type": "markdown",
      "metadata": {
        "id": "rWI8ewVVz_HA",
        "colab_type": "text"
      },
      "source": [
        "* И, наконец, попробуем **1-2-word-grams** и **3-5-char-grams**:"
      ]
    },
    {
      "cell_type": "code",
      "metadata": {
        "id": "qW9BiSvrz_HB",
        "colab_type": "code",
        "colab": {}
      },
      "source": [
        "pipeline = Pipeline([\n",
        "    ('vectorizer', CountVectorizer(ngram_range=(1, 2))),\n",
        "    ('logreg', LogisticRegression())\n",
        "])"
      ],
      "execution_count": 0,
      "outputs": []
    },
    {
      "cell_type": "code",
      "metadata": {
        "id": "-Lc7fNHTz_HE",
        "colab_type": "code",
        "outputId": "278cbebd-c50f-407d-d09b-5add85a3fcab",
        "colab": {}
      },
      "source": [
        "cv_acc_scores = cross_val_score(pipeline, data, y, cv=5)\n",
        "print(\n",
        "    f'CountVectorizer + LogisticRegression + 1-2-word-grams CV accuracy: \\\n",
        "    {cv_acc_scores.mean():.3f} ({cv_acc_scores.std():.3f})'\n",
        ")"
      ],
      "execution_count": 0,
      "outputs": [
        {
          "output_type": "stream",
          "text": [
            "CountVectorizer + LogisticRegression + 1-2-word-grams CV accuracy:     0.853 (0.017)\n"
          ],
          "name": "stdout"
        }
      ]
    },
    {
      "cell_type": "code",
      "metadata": {
        "id": "ZoOm00Ckz_HG",
        "colab_type": "code",
        "colab": {}
      },
      "source": [
        "pipeline = Pipeline([\n",
        "    ('vectorizer', CountVectorizer(analyzer='char_wb', ngram_range=(3, 5))), \n",
        "    ('logreg', LogisticRegression())\n",
        "])"
      ],
      "execution_count": 0,
      "outputs": []
    },
    {
      "cell_type": "code",
      "metadata": {
        "id": "TveTLaDbz_HI",
        "colab_type": "code",
        "outputId": "64f909ae-2918-4d69-d616-83c3bbbc262f",
        "colab": {}
      },
      "source": [
        "cv_acc_scores = cross_val_score(pipeline, data, y, cv=5)\n",
        "print(\n",
        "    f'CountVectorizer + LogisticRegression + 3-5-char-grams CV accuracy: \\\n",
        "    {cv_acc_scores.mean():.3f} ({cv_acc_scores.std():.3f})'\n",
        ")"
      ],
      "execution_count": 0,
      "outputs": [
        {
          "output_type": "stream",
          "text": [
            "CountVectorizer + LogisticRegression + 3-5-char-grams CV accuracy:     0.820 (0.011)\n"
          ],
          "name": "stdout"
        }
      ]
    },
    {
      "cell_type": "markdown",
      "metadata": {
        "id": "jI99P206z_HJ",
        "colab_type": "text"
      },
      "source": [
        "## Полезные ссылки"
      ]
    },
    {
      "cell_type": "markdown",
      "metadata": {
        "id": "_MpaPH-Fz_HK",
        "colab_type": "text"
      },
      "source": [
        "Deep Learning School при ФПМИ МФТИ:\n",
        "* [Официальный сайт](https://www.dlschool.org/) | [Github](https://github.com/DLSchool/deep_learning_2018-19) | [YouTube](https://www.youtube.com/channel/UCFTNoZYjkg-3LZTHrHfV1nQ/) | [VK](https://vk.com/dlschool_mipt) | [Telegram]()"
      ]
    },
    {
      "cell_type": "markdown",
      "metadata": {
        "id": "uzuKhXA5z_HL",
        "colab_type": "text"
      },
      "source": [
        "Курсы:\n",
        "* [Специализация Яндекса по Анализу данных и Машинному обучению](https://ru.coursera.org/specializations/machine-learning-data-analysis)\n",
        "* [Открытый курс по машинному обучению от OpenDataScience](https://habr.com/ru/company/ods/blog/322626/)\n",
        "* [deeplearning.ai](https://www.coursera.org/specializations/deep-learning) по Deep Learning (нейронные сети)\n",
        "* [Stanford cs231n](http://cs231n.stanford.edu/) по Computer Vision\n",
        "* [Stanford cs224n](http://web.stanford.edu/class/cs224n/) по Natural Language Processing"
      ]
    },
    {
      "cell_type": "markdown",
      "metadata": {
        "id": "jT8Nys9xz_HL",
        "colab_type": "text"
      },
      "source": [
        "Демо:\n",
        "* [Сайт-сборник интерактивных демо по машинному обучению](http://arogozhnikov.github.io/2016/04/28/demonstrations-for-ml-courses.html)"
      ]
    }
  ]
}